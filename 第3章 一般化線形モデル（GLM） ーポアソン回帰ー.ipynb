{
 "cells": [
  {
   "cell_type": "markdown",
   "metadata": {},
   "source": [
    "# この章で学ぶこと\n",
    "## 説明変数を組み込んだ統計モデル\n",
    "個体ごとに異なる説明変数によって平均種子数λが変化する統計モデルを考えます。  \n",
    "このような統計モデル観測データに当てはめることをポアソン回帰（Poisson regression）といい、似たような構造の統計モデルを総称して一般化線形モデル（generalized linear model, GLM）と言います。"
   ]
  },
  {
   "cell_type": "markdown",
   "metadata": {},
   "source": [
    "# 3.1 個体ごとに平均種子数が異なる例題\n",
    "ここでは、前章の例と似ている例を扱います。  \n",
    "大きく異なるのは、個体ごとに肥料を加える処理（施肥処理の有無{T, C}）のラベルがついていることです。"
   ]
  },
  {
   "cell_type": "markdown",
   "metadata": {},
   "source": [
    "# 3.2 データの外観を調べる"
   ]
  },
  {
   "cell_type": "code",
   "execution_count": 2,
   "metadata": {},
   "outputs": [
    {
     "data": {
      "text/plain": [
       "Object"
      ]
     },
     "execution_count": 2,
     "metadata": {},
     "output_type": "execute_result"
    }
   ],
   "source": [
    "# 必要なライブラリなど読み込み\n",
    "require 'daru'\n",
    "require 'rbplotly'\n",
    "require 'daru/plotly'\n",
    "\n",
    "include Daru::Plotly::Methods"
   ]
  },
  {
   "cell_type": "code",
   "execution_count": 3,
   "metadata": {
    "scrolled": true
   },
   "outputs": [
    {
     "data": {
      "text/html": [
       "<b> Daru::DataFrame(5x3) </b>\n",
       "<table>\n",
       "  <thead>\n",
       "  \n",
       "    <tr>\n",
       "      <th></th>\n",
       "      \n",
       "        <th>y</th>\n",
       "      \n",
       "        <th>x</th>\n",
       "      \n",
       "        <th>f</th>\n",
       "      \n",
       "    </tr>\n",
       "  \n",
       "</thead>\n",
       "  <tbody>\n",
       "  \n",
       "    <tr>\n",
       "      <td>0</td>\n",
       "      \n",
       "        <td>6</td>\n",
       "      \n",
       "        <td>8.31</td>\n",
       "      \n",
       "        <td>C</td>\n",
       "      \n",
       "    </tr>\n",
       "  \n",
       "    <tr>\n",
       "      <td>1</td>\n",
       "      \n",
       "        <td>6</td>\n",
       "      \n",
       "        <td>9.44</td>\n",
       "      \n",
       "        <td>C</td>\n",
       "      \n",
       "    </tr>\n",
       "  \n",
       "    <tr>\n",
       "      <td>2</td>\n",
       "      \n",
       "        <td>6</td>\n",
       "      \n",
       "        <td>9.5</td>\n",
       "      \n",
       "        <td>C</td>\n",
       "      \n",
       "    </tr>\n",
       "  \n",
       "    <tr>\n",
       "      <td>3</td>\n",
       "      \n",
       "        <td>12</td>\n",
       "      \n",
       "        <td>9.07</td>\n",
       "      \n",
       "        <td>C</td>\n",
       "      \n",
       "    </tr>\n",
       "  \n",
       "    <tr>\n",
       "      <td>4</td>\n",
       "      \n",
       "        <td>10</td>\n",
       "      \n",
       "        <td>10.16</td>\n",
       "      \n",
       "        <td>C</td>\n",
       "      \n",
       "    </tr>\n",
       "  \n",
       "\n",
       "  \n",
       "</tbody>\n",
       "</table>"
      ],
      "text/plain": [
       "#<Daru::DataFrame(5x3)>\n",
       "           y     x     f\n",
       "     0     6  8.31     C\n",
       "     1     6  9.44     C\n",
       "     2     6   9.5     C\n",
       "     3    12  9.07     C\n",
       "     4    10 10.16     C"
      ]
     },
     "execution_count": 3,
     "metadata": {},
     "output_type": "execute_result"
    }
   ],
   "source": [
    "# データを読み込んで頭の5件を表示\n",
    "df = Daru::DataFrame.from_csv(\"data/data3a.csv\")\n",
    "df.head(5)"
   ]
  },
  {
   "cell_type": "code",
   "execution_count": 13,
   "metadata": {},
   "outputs": [
    {
     "data": {
      "text/html": [
       "<b> Daru::Vector(5) </b>\n",
       "<table>\n",
       "  <thead>\n",
       "  \n",
       "    <tr>\n",
       "        <th> </th>\n",
       "        <th>y</th>\n",
       "    </tr>\n",
       "  \n",
       "</thead>\n",
       "  <tbody>\n",
       "  \n",
       "    <tr>\n",
       "      <td>0</td>\n",
       "      <td>6</td>\n",
       "    </tr>\n",
       "  \n",
       "    <tr>\n",
       "      <td>1</td>\n",
       "      <td>6</td>\n",
       "    </tr>\n",
       "  \n",
       "    <tr>\n",
       "      <td>2</td>\n",
       "      <td>6</td>\n",
       "    </tr>\n",
       "  \n",
       "    <tr>\n",
       "      <td>3</td>\n",
       "      <td>12</td>\n",
       "    </tr>\n",
       "  \n",
       "    <tr>\n",
       "      <td>4</td>\n",
       "      <td>10</td>\n",
       "    </tr>\n",
       "  \n",
       "\n",
       "  \n",
       "</tbody>\n",
       "</table>"
      ],
      "text/plain": [
       "#<Daru::Vector(5)>\n",
       "       y\n",
       "   0   6\n",
       "   1   6\n",
       "   2   6\n",
       "   3  12\n",
       "   4  10"
      ]
     },
     "execution_count": 13,
     "metadata": {},
     "output_type": "execute_result"
    }
   ],
   "source": [
    "# y（種子数）だけ頭5件表示\n",
    "df.y.head(5)"
   ]
  },
  {
   "cell_type": "code",
   "execution_count": 14,
   "metadata": {},
   "outputs": [
    {
     "data": {
      "text/html": [
       "<b> Daru::Vector(5) </b>\n",
       "<table>\n",
       "  <thead>\n",
       "  \n",
       "    <tr>\n",
       "        <th> </th>\n",
       "        <th>x</th>\n",
       "    </tr>\n",
       "  \n",
       "</thead>\n",
       "  <tbody>\n",
       "  \n",
       "    <tr>\n",
       "      <td>0</td>\n",
       "      <td>8.31</td>\n",
       "    </tr>\n",
       "  \n",
       "    <tr>\n",
       "      <td>1</td>\n",
       "      <td>9.44</td>\n",
       "    </tr>\n",
       "  \n",
       "    <tr>\n",
       "      <td>2</td>\n",
       "      <td>9.5</td>\n",
       "    </tr>\n",
       "  \n",
       "    <tr>\n",
       "      <td>3</td>\n",
       "      <td>9.07</td>\n",
       "    </tr>\n",
       "  \n",
       "    <tr>\n",
       "      <td>4</td>\n",
       "      <td>10.16</td>\n",
       "    </tr>\n",
       "  \n",
       "\n",
       "  \n",
       "</tbody>\n",
       "</table>"
      ],
      "text/plain": [
       "#<Daru::Vector(5)>\n",
       "           x\n",
       "     0  8.31\n",
       "     1  9.44\n",
       "     2   9.5\n",
       "     3  9.07\n",
       "     4 10.16"
      ]
     },
     "execution_count": 14,
     "metadata": {},
     "output_type": "execute_result"
    }
   ],
   "source": [
    "# x（個体サイズ）だけ頭5件表示\n",
    "df.x.head(5)"
   ]
  },
  {
   "cell_type": "code",
   "execution_count": 5,
   "metadata": {},
   "outputs": [
    {
     "data": {
      "text/html": [
       "<b> Daru::Vector(5) </b>\n",
       "<table>\n",
       "  <thead>\n",
       "  \n",
       "    <tr>\n",
       "        <th> </th>\n",
       "        <th>f</th>\n",
       "    </tr>\n",
       "  \n",
       "</thead>\n",
       "  <tbody>\n",
       "  \n",
       "    <tr>\n",
       "      <td>0</td>\n",
       "      <td>C</td>\n",
       "    </tr>\n",
       "  \n",
       "    <tr>\n",
       "      <td>1</td>\n",
       "      <td>C</td>\n",
       "    </tr>\n",
       "  \n",
       "    <tr>\n",
       "      <td>2</td>\n",
       "      <td>C</td>\n",
       "    </tr>\n",
       "  \n",
       "    <tr>\n",
       "      <td>3</td>\n",
       "      <td>C</td>\n",
       "    </tr>\n",
       "  \n",
       "    <tr>\n",
       "      <td>4</td>\n",
       "      <td>C</td>\n",
       "    </tr>\n",
       "  \n",
       "\n",
       "  \n",
       "</tbody>\n",
       "</table>"
      ],
      "text/plain": [
       "#<Daru::Vector(5)>\n",
       "       f\n",
       "   0   C\n",
       "   1   C\n",
       "   2   C\n",
       "   3   C\n",
       "   4   C"
      ]
     },
     "execution_count": 5,
     "metadata": {},
     "output_type": "execute_result"
    }
   ],
   "source": [
    "# f（施肥処理の有無）だけ頭5件表示\n",
    "#    C: 施肥処理なし\n",
    "#    T: 施肥処理あり\n",
    "df.f.head(5)"
   ]
  },
  {
   "cell_type": "code",
   "execution_count": 6,
   "metadata": {},
   "outputs": [
    {
     "data": {
      "text/html": [
       "<b> Daru::Vector(2) </b>\n",
       "<table>\n",
       "  <thead>\n",
       "  \n",
       "</thead>\n",
       "  <tbody>\n",
       "  \n",
       "    <tr>\n",
       "      <td>C</td>\n",
       "      <td>50</td>\n",
       "    </tr>\n",
       "  \n",
       "    <tr>\n",
       "      <td>T</td>\n",
       "      <td>50</td>\n",
       "    </tr>\n",
       "  \n",
       "\n",
       "  \n",
       "</tbody>\n",
       "</table>"
      ],
      "text/plain": [
       "#<Daru::Vector(2)>\n",
       "   C  50\n",
       "   T  50"
      ]
     },
     "execution_count": 6,
     "metadata": {},
     "output_type": "execute_result"
    }
   ],
   "source": [
    "# fの値の要素を数えてみる\n",
    "#   => \"C\" と \"T\" が50個ずつであることが分かる\n",
    "df.f.value_counts"
   ]
  },
  {
   "cell_type": "code",
   "execution_count": 19,
   "metadata": {},
   "outputs": [
    {
     "data": {
      "text/html": [
       "<b> Daru::DataFrame(5x2) </b>\n",
       "<table>\n",
       "  <thead>\n",
       "  \n",
       "    <tr>\n",
       "      <th></th>\n",
       "      \n",
       "        <th>y</th>\n",
       "      \n",
       "        <th>x</th>\n",
       "      \n",
       "    </tr>\n",
       "  \n",
       "</thead>\n",
       "  <tbody>\n",
       "  \n",
       "    <tr>\n",
       "      <td>count</td>\n",
       "      \n",
       "        <td>100</td>\n",
       "      \n",
       "        <td>100</td>\n",
       "      \n",
       "    </tr>\n",
       "  \n",
       "    <tr>\n",
       "      <td>mean</td>\n",
       "      \n",
       "        <td>7.83</td>\n",
       "      \n",
       "        <td>10.089099999999997</td>\n",
       "      \n",
       "    </tr>\n",
       "  \n",
       "    <tr>\n",
       "      <td>std</td>\n",
       "      \n",
       "        <td>2.624880949681338</td>\n",
       "      \n",
       "        <td>1.0080485147455993</td>\n",
       "      \n",
       "    </tr>\n",
       "  \n",
       "    <tr>\n",
       "      <td>min</td>\n",
       "      \n",
       "        <td>2</td>\n",
       "      \n",
       "        <td>7.19</td>\n",
       "      \n",
       "    </tr>\n",
       "  \n",
       "    <tr>\n",
       "      <td>max</td>\n",
       "      \n",
       "        <td>15</td>\n",
       "      \n",
       "        <td>12.4</td>\n",
       "      \n",
       "    </tr>\n",
       "  \n",
       "\n",
       "  \n",
       "</tbody>\n",
       "</table>"
      ],
      "text/plain": [
       "#<Daru::DataFrame(5x2)>\n",
       "                     y          x\n",
       "      count        100        100\n",
       "       mean       7.83 10.0890999\n",
       "        std 2.62488094 1.00804851\n",
       "        min          2       7.19\n",
       "        max         15       12.4"
      ]
     },
     "execution_count": 19,
     "metadata": {},
     "output_type": "execute_result"
    }
   ],
   "source": [
    "# データフレーム（Daruオブジェクト）の外観をみてみる\n",
    "df.describe"
   ]
  },
  {
   "cell_type": "markdown",
   "metadata": {},
   "source": [
    "## 3.3 図示をする\n",
    "統計モデリングに取り組むさい、データを色々な図にして眺めるのは非常に重要です。  \n",
    "Rubyでどのような図示ができるかみていきましょう。"
   ]
  },
  {
   "cell_type": "code",
   "execution_count": 7,
   "metadata": {},
   "outputs": [
    {
     "data": {
      "text/html": [
       "\n",
       "  <script>\n",
       "  requirejs.config({paths: { 'plotly': ['https://cdn.plot.ly/plotly-latest.min'] }})\n",
       "  </script>\n",
       "\n",
       "\n",
       "<div id=\"22293733-f29b-494a-82e6-63205802761d\" style=\"height: 100%; width: 100%;\"></div>\n",
       "\n",
       "<script>\n",
       " require(['plotly'], function(Plotly) { \n",
       "Plotly.newPlot(\n",
       "  '22293733-f29b-494a-82e6-63205802761d',\n",
       "  [{\"name\":\"T\",\"y\":[14,6,7,9,6,7,9,13,9,13,7,8,10,7,12,6,15,3,4,6,10,8,8,7,5,6,8,9,9,6,7,10,6,11,11,11,5,6,4,5,6,5,8,5,9,8,6,8,7,9],\"x\":[10.14,9.05,9.89,8.76,12.04,9.91,9.84,11.87,10.16,9.34,10.17,10.99,9.19,10.67,10.96,10.55,9.69,10.91,9.6,12.37,10.54,11.3,12.4,10.18,9.53,10.24,11.76,9.52,10.4,9.96,10.3,11.54,9.42,11.28,9.73,10.78,10.21,10.51,10.73,8.85,11.2,9.86,11.54,10.03,11.88,9.15,8.52,10.24,10.86,9.97],\"mode\":\"markers\",\"marker\":{\"color\":\"rgba(0, 0, 200, .5)\"}},{\"name\":\"C\",\"y\":[6,6,6,12,10,4,9,9,9,11,6,10,6,10,11,8,3,8,5,5,4,11,5,10,6,6,7,9,3,10,2,9,10,5,11,10,4,8,9,12,8,9,8,6,6,10,10,9,12,6],\"x\":[8.31,9.44,9.5,9.07,10.16,8.32,10.61,10.06,9.93,10.43,10.36,10.15,10.92,8.85,9.42,11.11,8.02,11.93,8.55,7.19,9.83,10.79,8.89,10.09,11.63,10.21,9.45,10.44,9.44,10.48,9.43,10.32,10.33,8.5,9.41,8.96,9.67,10.26,10.36,11.8,10.94,10.25,8.74,10.46,9.37,9.74,8.95,8.74,11.32,9.25],\"mode\":\"markers\",\"marker\":{\"color\":\"rgba(200, 0, 0, .5)\"}}],\n",
       "  {},\n",
       "  {\"linkText\":\"Export to plot.ly\",\"showLink\":true}\n",
       ")\n",
       "\n",
       "window.addEventListener('resize', function() {\n",
       "  Plotly.Plots.resize(document.getElementById('22293733-f29b-494a-82e6-63205802761d'))\n",
       "})\n",
       " }) \n",
       "</script>"
      ],
      "text/plain": [
       "#<Plotly::Offline::HTML:0x007f822244ee08 @id=\"22293733-f29b-494a-82e6-63205802761d\", @data=[{:name=>\"T\", :y=>[14, 6, 7, 9, 6, 7, 9, 13, 9, 13, 7, 8, 10, 7, 12, 6, 15, 3, 4, 6, 10, 8, 8, 7, 5, 6, 8, 9, 9, 6, 7, 10, 6, 11, 11, 11, 5, 6, 4, 5, 6, 5, 8, 5, 9, 8, 6, 8, 7, 9], :x=>[10.14, 9.05, 9.89, 8.76, 12.04, 9.91, 9.84, 11.87, 10.16, 9.34, 10.17, 10.99, 9.19, 10.67, 10.96, 10.55, 9.69, 10.91, 9.6, 12.37, 10.54, 11.3, 12.4, 10.18, 9.53, 10.24, 11.76, 9.52, 10.4, 9.96, 10.3, 11.54, 9.42, 11.28, 9.73, 10.78, 10.21, 10.51, 10.73, 8.85, 11.2, 9.86, 11.54, 10.03, 11.88, 9.15, 8.52, 10.24, 10.86, 9.97], :mode=>:markers, :marker=>{:color=>\"rgba(0, 0, 200, .5)\"}}, {:name=>\"C\", :y=>[6, 6, 6, 12, 10, 4, 9, 9, 9, 11, 6, 10, 6, 10, 11, 8, 3, 8, 5, 5, 4, 11, 5, 10, 6, 6, 7, 9, 3, 10, 2, 9, 10, 5, 11, 10, 4, 8, 9, 12, 8, 9, 8, 6, 6, 10, 10, 9, 12, 6], :x=>[8.31, 9.44, 9.5, 9.07, 10.16, 8.32, 10.61, 10.06, 9.93, 10.43, 10.36, 10.15, 10.92, 8.85, 9.42, 11.11, 8.02, 11.93, 8.55, 7.19, 9.83, 10.79, 8.89, 10.09, 11.63, 10.21, 9.45, 10.44, 9.44, 10.48, 9.43, 10.32, 10.33, 8.5, 9.41, 8.96, 9.67, 10.26, 10.36, 11.8, 10.94, 10.25, 8.74, 10.46, 9.37, 9.74, 8.95, 8.74, 11.32, 9.25], :mode=>:markers, :marker=>{:color=>\"rgba(200, 0, 0, .5)\"}}], @layout={}, @config={:linkText=>\"Export to plot.ly\", :showLink=>true}, @embedded=true>"
      ]
     },
     "metadata": {},
     "output_type": "display_data"
    },
    {
     "data": {
      "text/plain": [
       "#<CZTop::Socket::PUB:0x7f8223580f30 last_endpoint=\"tcp://127.0.0.1:64263\">"
      ]
     },
     "execution_count": 7,
     "metadata": {},
     "output_type": "execute_result"
    }
   ],
   "source": [
    "# 散布図を描画する\n",
    "#Daru::Plotly::Methods.plot(, x: :x, y: :y, type: :scatter).show\n",
    "traceT = { \n",
    "  name: 'T',\n",
    "  x: df.filter(:row) {|row| row[\"f\"] == \"T\"}.x.to_a,\n",
    "  y: df.filter(:row) {|row| row[\"f\"] == \"T\"}.y.to_a,\n",
    "  mode: :markers, marker: {color: 'rgba(0, 0, 200, .5)'}\n",
    "}\n",
    "traceC = {\n",
    "  name: 'C',  \n",
    "  x: df.filter(:row) {|row| row[\"f\"] == \"C\"}.x.to_a,\n",
    "  y: df.filter(:row) {|row| row[\"f\"] == \"C\"}.y.to_a,\n",
    "  mode: :markers, marker: {color: 'rgba(200, 0, 0, .5)'}\n",
    "}\n",
    "\n",
    "Plotly::Plot.new(data: [traceT, traceC]).show"
   ]
  },
  {
   "cell_type": "code",
   "execution_count": 8,
   "metadata": {},
   "outputs": [
    {
     "data": {
      "text/html": [
       "\n",
       "  <script>\n",
       "  requirejs.config({paths: { 'plotly': ['https://cdn.plot.ly/plotly-latest.min'] }})\n",
       "  </script>\n",
       "\n",
       "\n",
       "<div id=\"9fd9a751-bbf4-4851-af4a-48a365bfbebb\" style=\"height: 100%; width: 100%;\"></div>\n",
       "\n",
       "<script>\n",
       " require(['plotly'], function(Plotly) { \n",
       "Plotly.newPlot(\n",
       "  '9fd9a751-bbf4-4851-af4a-48a365bfbebb',\n",
       "  [{\"name\":\"T\",\"y\":[14,6,7,9,6,7,9,13,9,13,7,8,10,7,12,6,15,3,4,6,10,8,8,7,5,6,8,9,9,6,7,10,6,11,11,11,5,6,4,5,6,5,8,5,9,8,6,8,7,9],\"type\":\"box\"},{\"name\":\"C\",\"y\":[6,6,6,12,10,4,9,9,9,11,6,10,6,10,11,8,3,8,5,5,4,11,5,10,6,6,7,9,3,10,2,9,10,5,11,10,4,8,9,12,8,9,8,6,6,10,10,9,12,6],\"type\":\"box\"}],\n",
       "  {},\n",
       "  {\"linkText\":\"Export to plot.ly\",\"showLink\":true}\n",
       ")\n",
       "\n",
       "window.addEventListener('resize', function() {\n",
       "  Plotly.Plots.resize(document.getElementById('9fd9a751-bbf4-4851-af4a-48a365bfbebb'))\n",
       "})\n",
       " }) \n",
       "</script>"
      ],
      "text/plain": [
       "#<Plotly::Offline::HTML:0x007f82228b8188 @id=\"9fd9a751-bbf4-4851-af4a-48a365bfbebb\", @data=[{:name=>\"T\", :y=>[14, 6, 7, 9, 6, 7, 9, 13, 9, 13, 7, 8, 10, 7, 12, 6, 15, 3, 4, 6, 10, 8, 8, 7, 5, 6, 8, 9, 9, 6, 7, 10, 6, 11, 11, 11, 5, 6, 4, 5, 6, 5, 8, 5, 9, 8, 6, 8, 7, 9], :type=>:box}, {:name=>\"C\", :y=>[6, 6, 6, 12, 10, 4, 9, 9, 9, 11, 6, 10, 6, 10, 11, 8, 3, 8, 5, 5, 4, 11, 5, 10, 6, 6, 7, 9, 3, 10, 2, 9, 10, 5, 11, 10, 4, 8, 9, 12, 8, 9, 8, 6, 6, 10, 10, 9, 12, 6], :type=>:box}], @layout={}, @config={:linkText=>\"Export to plot.ly\", :showLink=>true}, @embedded=true>"
      ]
     },
     "metadata": {},
     "output_type": "display_data"
    },
    {
     "data": {
      "text/plain": [
       "#<CZTop::Socket::PUB:0x7f8223580f30 last_endpoint=\"tcp://127.0.0.1:64263\">"
      ]
     },
     "execution_count": 8,
     "metadata": {},
     "output_type": "execute_result"
    }
   ],
   "source": [
    "# 箱ひげ図\n",
    "traceT = { \n",
    "  name: 'T', \n",
    "  y: df.filter(:row) {|row| row[\"f\"] == \"T\"}.y.to_a,\n",
    "  type: :box\n",
    "}\n",
    "traceC = {\n",
    "  name: 'C', \n",
    "  y: df.filter(:row) {|row| row[\"f\"] == \"C\"}.y.to_a,\n",
    "  type: :box\n",
    "}\n",
    "\n",
    "Plotly::Plot.new(data: [traceT, traceC]).show"
   ]
  },
  {
   "cell_type": "markdown",
   "metadata": {},
   "source": [
    "## 3.4 ポアソン回帰の統計モデル\n",
    "ここでは、平均種子数 ${\\lambda_i}$ が個体サイズxや施肥処理fに影響されるモデルを設計していきます。  \n",
    "説明変数は ${x_i}$ で、応答変数は種子数 ${y_i}$ です。  \n",
    "施肥効果 ${f_i}$ は上記の図をみる限りあまり影響がなさそうなので、いっったん無視します。  \n",
    "ある個体 ${i}$ で種子数が ${y_i}$ である確率 ${p(y_i|\\lambda_i)}$ はポアソン分布にしてがっているものとします。  \n",
    "\n",
    "$$ p(y|\\lambda)=\\frac{\\lambda^y exp(-\\lambda)}{y!}$$"
   ]
  },
  {
   "cell_type": "code",
   "execution_count": null,
   "metadata": {
    "collapsed": true
   },
   "outputs": [],
   "source": []
  }
 ],
 "metadata": {
  "kernelspec": {
   "display_name": "Ruby 2.4.1",
   "language": "ruby",
   "name": "ruby"
  },
  "language_info": {
   "file_extension": ".rb",
   "mimetype": "application/x-ruby",
   "name": "ruby",
   "version": "2.4.1"
  }
 },
 "nbformat": 4,
 "nbformat_minor": 2
}
